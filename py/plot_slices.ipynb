{
 "cells": [
  {
   "cell_type": "code",
   "execution_count": 9,
   "metadata": {
    "collapsed": true
   },
   "outputs": [],
   "source": [
    "import numpy as np\n",
    "import matplotlib.pyplot as plt\n",
    "import subprocess\n",
    "\n",
    "def slice_plotter(\n",
    "        n0 = 0,\n",
    "        n1 = 4,\n",
    "        res = 128):\n",
    "    ax = plt.figure(figsize = (8, 8)).add_axes([.0, .0, 1., 1.])\n",
    "    ax.set_axis_off()\n",
    "    for i in range(n0*4, n1*4, 4):\n",
    "        print('plotting frame ', i)\n",
    "        data = np.load(\n",
    "            '/stuff/data/RMHD/2D_slices/data_rs2_u_t{0:0>4x}.npy'.format(i),\n",
    "            mmap_mode = 'r')\n",
    "        for j in range(3):\n",
    "            for k in range(2):\n",
    "                ax.cla()\n",
    "                ax.set_axis_off()\n",
    "                ax.imshow(data[j, :res, :res, k])\n",
    "                plt.gcf().savefig(\n",
    "                    'figs/{0}_{1}_t{2:0>4}.png'.format(j, k, i),\n",
    "                    dpi = res//8,\n",
    "                    format = 'png')\n",
    "    return None"
   ]
  },
  {
   "cell_type": "code",
   "execution_count": null,
   "metadata": {
    "collapsed": false
   },
   "outputs": [
    {
     "name": "stdout",
     "output_type": "stream",
     "text": [
      "plotting frame  0\n",
      "plotting frame "
     ]
    }
   ],
   "source": [
    "generate_png = True\n",
    "generate_gif = True\n",
    "\n",
    "if generate_png:\n",
    "    slice_plotter(\n",
    "        n0 = 0,\n",
    "        n1 = 0x2a8//4,\n",
    "        res = 2048)\n",
    "\n",
    "if generate_gif:\n",
    "    for j in range(3):\n",
    "        for k in range(2):\n",
    "            subprocess.call(['convert',\n",
    "                             'figs/{0}_{1}_t*.png'.format(j, k),\n",
    "                             'figs/{0}_{1}.gif'.format(j, k)])"
   ]
  },
  {
   "cell_type": "code",
   "execution_count": null,
   "metadata": {
    "collapsed": true
   },
   "outputs": [],
   "source": []
  }
 ],
 "metadata": {
  "kernelspec": {
   "display_name": "Python 3",
   "language": "python",
   "name": "python3"
  },
  "language_info": {
   "codemirror_mode": {
    "name": "ipython",
    "version": 3
   },
   "file_extension": ".py",
   "mimetype": "text/x-python",
   "name": "python",
   "nbconvert_exporter": "python",
   "pygments_lexer": "ipython3",
   "version": "3.4.0"
  }
 },
 "nbformat": 4,
 "nbformat_minor": 0
}
